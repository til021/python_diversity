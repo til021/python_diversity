{
 "cells": [
  {
   "cell_type": "code",
   "execution_count": 1,
   "id": "16a93e2a",
   "metadata": {},
   "outputs": [],
   "source": [
    "# Módulo: [DS-PY-001] - Lógica de Programação (PY)\n",
    "# Projeto: Hangman (Jogo da forca)\n",
    "# Professor: Lucas Saito\n",
    "# Data de entrega: 29/09/2022\n",
    "#\n",
    "# Objetivos:\n",
    "#\t1. Trabalhar com estrutura condicional (if, elif, else)\n",
    "#\t2. Trabalhar com estrutura de repetição (while e for loop)\n",
    "#\t3. Leitura do stdin e impressão no stdout\n",
    "#\t4. Utilizar manipulação(métodos) e slicing de strings\n",
    "#\t5. Utilização de listas\n",
    "#\t6. Utilização da biblioteca `random`: https://docs.python.org/3/library/random.html\n",
    "#\n",
    "# Descrição:\n",
    "#\tEstabelecer dentro do código uma lista de palavras(ex: ['arvore', 'banana', 'gato', 'churrasqueira']) para\n",
    "#\tuma delas ser escolhida de forma aleatória por uma função da biblioteca `random`, e estabelecer um número X de tentatitvas\n",
    "#\tpara o usuário tentar adivinhar se uma letra(inserida no input() em cada tentativa) faz parte dessa palavra\n",
    "#\tescolhida aleatoriamente da lista.\n",
    "#\tCaso as tentativas do usuário acabem, imprimir uma mensagem informando que as tentativas acabaram e ele perdeu.\n",
    "#\tCaso o usuário adivinhe a palavra inteira, imprimir uma mensagem de vitória.\n",
    "#\n",
    "#\n",
    "#\tEx: Palavra escolhida \"Churrasqueira\", se o usuário escrever a letra \"a\" no input(), você deve mostrar\n",
    "#\tda seguinte forma:      _____A______A\n",
    "#\tSe em seguida o usuário digitar a letra \"r\", teremos que imprimir:\t___RRA______RA\n",
    "#\te assim por diante.\n",
    "#"
   ]
  },
  {
   "cell_type": "code",
   "execution_count": 2,
   "id": "1601dbc8",
   "metadata": {},
   "outputs": [],
   "source": [
    "# https://realpython.com/python-web-scraping-practical-introduction/\n",
    "\n",
    "\"\"\"\n",
    "To play the game it's necessary to install the beautifulsoup4 and the unicode libraries!\n",
    "Para rodar o programa é necessário instalar a biblioteca beautifulsoup4 e a biblioteca unidecode!\n",
    "\"\"\";"
   ]
  },
  {
   "cell_type": "code",
   "execution_count": 3,
   "id": "8a30a738",
   "metadata": {},
   "outputs": [
    {
     "name": "stdout",
     "output_type": "stream",
     "text": [
      "Name: beautifulsoup4\n",
      "Version: 4.11.1\n",
      "Summary: Screen-scraping library\n",
      "Home-page: https://www.crummy.com/software/BeautifulSoup/bs4/\n",
      "Author: Leonard Richardson\n",
      "Author-email: leonardr@segfault.org\n",
      "License: MIT\n",
      "Location: c:\\users\\tiago\\appdata\\local\\programs\\python\\python310\\lib\\site-packages\n",
      "Requires: soupsieve\n",
      "Required-by: nbconvert\n",
      "Note: you may need to restart the kernel to use updated packages.\n"
     ]
    }
   ],
   "source": [
    "pip show beautifulsoup4"
   ]
  },
  {
   "cell_type": "code",
   "execution_count": 4,
   "id": "b67421ff",
   "metadata": {},
   "outputs": [
    {
     "name": "stdout",
     "output_type": "stream",
     "text": [
      "Name: Unidecode\n",
      "Version: 1.3.4\n",
      "Summary: ASCII transliterations of Unicode text\n",
      "Home-page: UNKNOWN\n",
      "Author: Tomaz Solc\n",
      "Author-email: tomaz.solc@tablix.org\n",
      "License: GPL\n",
      "Location: c:\\users\\tiago\\appdata\\local\\programs\\python\\python310\\lib\\site-packages\n",
      "Requires: \n",
      "Required-by: \n",
      "Note: you may need to restart the kernel to use updated packages.\n"
     ]
    }
   ],
   "source": [
    "pip show unidecode"
   ]
  },
  {
   "cell_type": "code",
   "execution_count": 5,
   "id": "862f8355",
   "metadata": {},
   "outputs": [
    {
     "name": "stdout",
     "output_type": "stream",
     "text": [
      "['contraste', 'ouvidoria', 'fornecedores', 'clientes', 'cultura', 'propósito', 'produtiva', 'estamos', 'história', 'notícias', 'documentos', 'governança', 'certificações', 'compliance', 'produtos', 'celulose', 'higiene', 'lignina', 'eucafluff', 'sustentabilidade', 'compromissos', 'comunidades', 'ambiente', 'relatório', 'central', 'sustentabilidade', 'inovação', 'bioestratégia', 'investidores', 'trabalhe', 'conosco', 'possibilidades', 'conosco', 'contraste', 'ouvidoria', 'fornecedores', 'clientes', 'cultura', 'propósito', 'produtiva', 'estamos', 'história', 'notícias', 'documentos', 'governança', 'certificações', 'compliance', 'produtos', 'celulose', 'higiene', 'lignina', 'eucafluff', 'sustentabilidade', 'compromissos', 'comunidades', 'ambiente', 'relatório', 'central', 'sustentabilidade', 'inovação', 'bioestratégia', 'investidores', 'trabalhe', 'conosco', 'possibilidades', 'conosco', 'estamos', 'diversos', 'produtos', 'trabalhamos', 'soluções', 'renováveis', 'construir', 'conosco', 'imaginar', 'fernanda', 'produtos', 'renováveis', 'estética', 'sacolas', 'reutilizáveis', 'rodrigo', 'nogueira', 'importância', 'educação', 'ambiental', 'consciência', 'preservação', 'ambiente', 'depende', 'eugenio', 'aproveitamento', 'produtos', 'degradar', 'ambiente', 'desperdício', 'alimentos', 'melhorando', 'possível', 'oferecermos', 'educação', 'qualidade', 'oportunidade', 'futuros', 'gecielson', 'fazemos', 'energia', 'próprio', 'sacolas', 'plásticas', 'comestíveis', 'animais', 'greiziele', 'sustentabilidade', 'inovação', 'princípios', 'valores', 'praticados', 'melhorarmos', 'sustentável', 'alisson', 'isabela', 'teremos', 'melhoras', 'pessoas', 'ambiente', 'ribeiro', 'balbino', 'sustentabilidade', 'importância', 'conservarmos', 'getulio', 'marvila', 'teixeira', 'acessibilidade', 'facilitada', 'produtos', 'sustentáveis', 'substituição', 'produtos', 'garantindo', 'qualidade', 'aparecido', 'batista', 'renováveis', 'sustentáveis', 'desenvolvendo', 'frequência', 'resíduos', 'batista', 'oliveira', 'energia', 'renovável', 'através', 'biomassa', 'obtermos', 'energia', 'viviane', 'referência', 'mundial', 'transformação', 'produtos', 'anderson', 'desenvolver', 'campanhas', 'marketing', 'conscientizar', 'população', 'importância', 'adquirir', 'produtos', 'serviços', 'marleide', 'imagino', 'conscientizar', 'economizar', 'descarte', 'maneira', 'preservar', 'ambiente', 'árvores', 'fabrício', 'melhorando', 'pessoas', 'dignidade', 'imagino', 'tecnologias', 'facilidades', 'aqueles', 'conhecem', 'lucinete', 'venturini', 'produtos', 'humanos', 'principalmente', 'energia', 'qualidade', 'scandian', 'acredito', 'próximo', 'empresas', 'criarão', 'biosustentaveis', 'diminuir', 'poluição', 'lucivânia', 'feitosa', 'pessoas', 'reeducadas', 'tecnologia', 'facilitadora', 'desenvolvimento', 'produtos', 'sustentáveis', 'reconsumir', 'barbara', 'tartarugas', 'comendo', 'plástico', 'fernandes', 'monteiro', 'planeta', 'transformado', 'amigável', 'reciclável', 'melhorando', 'pessoas', 'marzeli', 'produtos', 'tecnológicos', 'energia', 'proença', 'pensamos', 'produtos', 'afetarão', 'matheus', 'produtos', 'sustentáveis', 'indústria', 'geramos', 'recicláveis', 'produtos', 'estudados', 'substituir', 'materiais', 'fósseis', 'produzidos', 'vanessa', 'seremos', 'reconhecidos', 'mundialmente', 'entrega', 'produtos', 'protagonismo', 'desenvolvimento', 'produtos', 'sustentáveis', 'projetos', 'alexandre', 'devemos', 'sustentabilidade', 'importância', 'segurança', 'teremos', 'geração', 'mentalidade', 'alexandre', 'inteligência', 'artificial', 'presente', 'facilitando', 'conectando', 'heloisa', 'capacidade', 'criação', 'lugares', 'consideramos', 'grandes', 'inovação', 'tecnologia', 'integradas', 'gerando', 'criativas', 'solução', 'marília', 'imagino', 'abastecer', 'veículos', 'transporte', 'combustíveis', 'mariane', 'energia', 'fabricação', 'aparecido', 'poluição', 'fraldas', 'absorventes', 'sustentáveis', 'produtos', 'descartáveis', 'modelos', 'embalagem', 'ricardo', 'eucalipto', 'imagina', 'bioprodutos', 'inovador', 'sustentável', 'escreva', 'resposta', 'conhecer', 'milhares', 'singulares', 'inovação', 'sustentabilidade', 'caminham', 'pautados', 'pensamos', 'enxergamos', 'desafios', 'plantamos', 'cultivamos', 'árvores', 'transformar', 'renovável', 'alternativas', 'sustentáveis', 'tecnologia', 'transformação', 'produtos', 'renovável', 'cosméticos', 'diferença', 'processos', 'eficientes', 'quantos', 'bioprodutos', 'tecnologia', 'pensamento', 'descobrimos', 'possibilidades', 'sustentável', 'estamos', 'trabalhando', 'transformar', 'produzir', 'oferecemos', 'aplicações', 'substituir', 'materiais', 'melhorar', 'fazemos', 'questionamos', 'estamos', 'atendendo', 'necessidades', 'clientes', 'contamos', 'ecossistema', 'inovação', 'produtiva', 'descubra', 'nossosprodutos', 'eucalipto', 'consome', 'realiza', 'fotossíntese', 'devolve', 'oxigênio', 'cultivamos', 'colhemos', 'eucalipto', 'aproveitar', 'adotamos', 'produzir', 'madeira', 'picadas', 'pequenos', 'contato', 'processada', 'transformada', 'celulose', 'soluções', 'sustentáveis', 'podemos', 'diferenciar', 'celulose', 'atender', 'necessidades', 'clientes', 'possibilitar', 'estamos', 'constante', 'maneiras', 'soluções', 'consumo', 'contribuir', 'transporte', 'comercialização', 'produtos', 'presentes', 'exportamos', 'cuidamos', 'transporte', 'produtos', 'esforços', 'realizar', 'logística', 'maneira', 'sustentável', 'bilhões', 'incluindo', 'encaramos', 'seriedade', 'desafio', 'oferecer', 'soluções', 'recicláveis', 'processos', 'procurando', 'informações', 'detransparência', 'documentos', 'conheça', 'produtivapor', 'completo', 'assista', 'sustentabilidade', 'atuamos', 'garantir', 'eficiência', 'redução', 'resíduos', 'impactos', 'ambientais', 'eucalipto', 'produto', 'buscamos', 'diálogo', 'sustentabilidade', 'relação', 'colaboradores', 'parcerias', 'fornecedores', 'processos', 'ambiente', 'investimos', 'preservação', 'hectares', 'equivalente', 'realizamos', 'maiores', 'programas', 'restauração', 'iniciativas', 'ambientais', 'contribuem', 'regulação', 'preservação', 'biodiversidade', 'manutenção', 'pessoas', 'queremos', 'pessoas', 'respeitamos', 'diversidade', 'colaboradores', 'trabalhamos', 'protagonistas', 'objetivos', 'projetos', 'comunidades', 'vizinhas', 'geração', 'melhoria', 'possibilitando', 'qualidade', 'autonomia', 'financeira', 'buscamos', 'relacionamento', 'saudável', 'diálogo', 'comunidades', 'movimentos', 'público', 'produtos', 'detalhes', 'produtos', 'notícias', 'notícias', 'notícias', 'inscrições', 'abertas', 'programa', 'estágio', 'superior', 'desafio', 'fornecedores', 'alternativas', 'consumo', 'plástico', 'pessoas', 'público', 'avaliam', 'produto', 'sustentável', 'embalagens', 'produtos', 'descartáveis', 'últimos', 'inscrever', 'empreendedorismo', 'empresas', 'comunicam', 'jornalistas', 'cultura', 'propósito', 'produtiva', 'estamos', 'história', 'notícias', 'documentos', 'governança', 'certificações', 'produtos', 'celulose', 'higiene', 'lignina', 'eucafluff', 'sustentabilidade', 'comunidades', 'ambiente', 'conduta', 'inovação', 'bioestratégia', 'trabalhe', 'conosco', 'compliance', 'ouvidoria', 'conosco', 'fornecedores', 'investidores', 'clientes', 'política', 'privacidade', 'compromissos', 'páginas', 'ecofuturo', 'eucafluff', 'futuragene', 'nascente', 'direitos', 'reservados']\n"
     ]
    }
   ],
   "source": [
    "from bs4 import BeautifulSoup\n",
    "from urllib.request import urlopen\n",
    "import random\n",
    "import unidecode\n",
    "\n",
    "url = \"https://www.suzano.com.br/\"\n",
    "page = urlopen(url)\n",
    "html = page.read().decode(\"utf-8\")\n",
    "soup = BeautifulSoup(html, \"html.parser\")\n",
    "\n",
    "text = soup.get_text().split()\n",
    "word_list = []\n",
    "\n",
    "for item in text:\n",
    "    if item.isalpha():\n",
    "        if len(item) > 6:\n",
    "                word_list.append(item.lower())\n",
    "\n",
    "print(word_list)\n",
    "        "
   ]
  },
  {
   "cell_type": "code",
   "execution_count": 6,
   "id": "b8889bc9",
   "metadata": {},
   "outputs": [],
   "source": [
    "# From the list above we select a randon word:\n",
    "\n",
    "secret = random.choice(word_list)\n",
    "unaccented_secret = unidecode.unidecode(secret)"
   ]
  },
  {
   "cell_type": "code",
   "execution_count": 7,
   "id": "03f2bf9e",
   "metadata": {},
   "outputs": [],
   "source": [
    "# Functions used"
   ]
  },
  {
   "cell_type": "code",
   "execution_count": 8,
   "id": "cc1ed263",
   "metadata": {},
   "outputs": [],
   "source": [
    "def guess_verification(guess, unaccented_secret):\n",
    "    if unidecode.unidecode(guess) == unaccented_secret:\n",
    "        return(\"end\")\n",
    "    elif unidecode.unidecode(guess) == \"arrego\":\n",
    "        return(\"arrego\")\n",
    "    else:\n",
    "        for item in unaccented_secret:\n",
    "            if guess == item:\n",
    "                return(\"continue\")\n",
    "        else:\n",
    "            return"
   ]
  },
  {
   "cell_type": "code",
   "execution_count": 9,
   "id": "7d378c94",
   "metadata": {},
   "outputs": [],
   "source": [
    "def update_word(word_visual, guess, secret, unaccented_secret):\n",
    "    for item in range(len(unaccented_secret)):\n",
    "        if unidecode.unidecode(guess) == unaccented_secret[item]:\n",
    "            word_visual[item] = (secret[item] + \" \")\n",
    "    return word_visual"
   ]
  },
  {
   "cell_type": "code",
   "execution_count": 10,
   "id": "7411bbc9",
   "metadata": {},
   "outputs": [],
   "source": [
    "def update_missing_digits(word_visual):    \n",
    "    missing_digits = 0\n",
    "    for item in word_visual:\n",
    "        if item == \"_ \":\n",
    "            missing_digits += 1\n",
    "    return missing_digits"
   ]
  },
  {
   "cell_type": "code",
   "execution_count": 11,
   "id": "48caff3d",
   "metadata": {},
   "outputs": [],
   "source": [
    "def arrego_function(word_visual, secret, unaccented_secret):\n",
    "    for item in range(len(word_visual)):\n",
    "        if word_visual[item] == \"_ \":\n",
    "            word_visual[item] = (secret[item] + \" \")\n",
    "            return word_visual"
   ]
  },
  {
   "cell_type": "code",
   "execution_count": 12,
   "id": "924db4d3",
   "metadata": {},
   "outputs": [],
   "source": [
    "# Initial game setup:\n",
    "\n",
    "game = \"start\"\n",
    "lives = 6\n",
    "arrego = 0\n",
    "word_visual = []\n",
    "for item in range(len(secret)):\n",
    "    word_visual.append(\"_ \")"
   ]
  },
  {
   "cell_type": "code",
   "execution_count": 13,
   "id": "221e8ac8",
   "metadata": {},
   "outputs": [
    {
     "name": "stdout",
     "output_type": "stream",
     "text": [
      "It's the hangmans game! You have 6 lives!\n",
      "\n",
      "Try to guess the hidden word or a letter within it: _ _ _ _ _ _ _ _ _  \n",
      "\n",
      "-> Here's a tip: the word has 9 digits!\n",
      "-> If you don't know what to guess, type 'arrego' for a tip! (only one use available!) \n",
      "\n"
     ]
    }
   ],
   "source": [
    "# Game greetings\n",
    "\n",
    "print(f\"It's the hangmans game! You have {lives} lives!\\n\")\n",
    "print(f\"Try to guess the hidden word or a letter within it: {'_ '*len(secret)} \\n\")\n",
    "print(f\"-> Here's a tip: the word has {len(secret)} digits!\")\n",
    "print(f\"-> If you don't know what to guess, type 'arrego' for a tip! (only one use available!) \\n\")"
   ]
  },
  {
   "cell_type": "code",
   "execution_count": null,
   "id": "0cb77c18",
   "metadata": {},
   "outputs": [
    {
     "name": "stdout",
     "output_type": "stream",
     "text": [
      "Type here your guess: k\n",
      "\n",
      "Not this time.. \n",
      "Now you have 5 chances to guess the word correctly! \n",
      "\n",
      "Type here your guess: a\n",
      "\n",
      "You are on the right track! \n",
      "The hidden word is: a _ a _ _ _ _ _ _  \n",
      "\n",
      "You still have to guess 7 digits! \n",
      "\n",
      "Type here your guess: p\n",
      "\n",
      "You are on the right track! \n",
      "The hidden word is: a p a _ _ _ _ _ _  \n",
      "\n",
      "You still have to guess 6 digits! \n",
      "\n",
      "Type here your guess: c\n",
      "\n",
      "You are on the right track! \n",
      "The hidden word is: a p a _ _ c _ _ _  \n",
      "\n",
      "You still have to guess 5 digits! \n",
      "\n",
      "Type here your guess: m\n",
      "\n",
      "Not this time.. \n",
      "Now you have 4 chances to guess the word correctly! \n",
      "\n"
     ]
    }
   ],
   "source": [
    "# Main game body\n",
    "\n",
    "while game != \"end\":\n",
    "    \n",
    "    guess = input(\"Type here your guess: \").lower()\n",
    "\n",
    "    while not (len(guess) > 5 or len(guess) == 1):\n",
    "        guess = input(\"Enter a valid guess: a\").lower()\n",
    "    \n",
    "    game = guess_verification(guess, unaccented_secret)\n",
    "    \n",
    "    if game == \"end\":\n",
    "        print(\"Congratulations! You made it! You guessed the hidden word correctly!! \\n\")\n",
    "        print(f\"The hidden word was: {secret}\")\n",
    "        break\n",
    "        \n",
    "    elif game == \"continue\":\n",
    "        word_visual = update_word(word_visual, guess, secret, unaccented_secret)\n",
    "        missing_digits = update_missing_digits(word_visual)\n",
    "        \n",
    "        print(\"\\nYou are on the right track! \")\n",
    "        print(f\"The hidden word is: {''.join(word_visual)} \\n\")\n",
    "        print(f\"You still have to guess {missing_digits} digits! \\n\")\n",
    "        \n",
    "    elif game == \"arrego\":\n",
    "        if arrego == 0:\n",
    "            word_visual = arrego_function(word_visual, secret, unaccented_secret)\n",
    "            missing_digits = update_missing_digits(word_visual)\n",
    "            arrego = 1\n",
    "            \n",
    "        print(\"\\nYou arregated!! Here's your tip!\")\n",
    "        print(f\"The hidden word is: {''.join(word_visual)} \\n\")\n",
    "        print(f\"You still have to guess {missing_digits} digits! \\n\")\n",
    "        \n",
    "    else:\n",
    "        print(\"\\nNot this time.. \")\n",
    "        lives -= 1\n",
    "        if lives > 0:\n",
    "            print(f\"Now you have {lives} chances to guess the word correctly! \\n\")\n",
    "        else:\n",
    "            print(\"You ran out of lives!\")\n",
    "            print(f\"The hidden word was: {secret}\")\n",
    "            game = \"end\""
   ]
  }
 ],
 "metadata": {
  "kernelspec": {
   "display_name": "Python 3 (ipykernel)",
   "language": "python",
   "name": "python3"
  },
  "language_info": {
   "codemirror_mode": {
    "name": "ipython",
    "version": 3
   },
   "file_extension": ".py",
   "mimetype": "text/x-python",
   "name": "python",
   "nbconvert_exporter": "python",
   "pygments_lexer": "ipython3",
   "version": "3.10.5"
  }
 },
 "nbformat": 4,
 "nbformat_minor": 5
}
